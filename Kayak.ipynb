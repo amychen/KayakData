{
 "cells": [
  {
   "cell_type": "code",
   "execution_count": 132,
   "metadata": {
    "collapsed": true
   },
   "outputs": [],
   "source": [
    "import requests\n",
    "from lxml import html\n",
    "import pandas\n",
    "import re\n",
    "\n",
    "url = \"https://www.kayak.com/s/horizon/flights/results/FlightPricePredictionAction\"\n",
    "response = requests.get(url)\n",
    "doc = html.fromstring(response.text)"
   ]
  },
  {
   "cell_type": "code",
   "execution_count": 133,
   "metadata": {},
   "outputs": [
    {
     "data": {
      "text/plain": [
       "'{\"infoText\":\"We\\'re still gathering data for this route\",\"cssClass\":\"nodata\",\"advice\":\"none\",\"buy\":false,\"adviceText\":\"¯\\\\\\\\_(ツ)_/¯\"}'"
      ]
     },
     "execution_count": 133,
     "metadata": {},
     "output_type": "execute_result"
    }
   ],
   "source": [
    "doc.text"
   ]
  },
  {
   "cell_type": "code",
   "execution_count": 134,
   "metadata": {
    "collapsed": true
   },
   "outputs": [],
   "source": [
    "referer = 'https://www.kayak.com/flights/NYC-AUH/2019-01-25/2019-05-25'"
   ]
  },
  {
   "cell_type": "code",
   "execution_count": 135,
   "metadata": {},
   "outputs": [],
   "source": [
    "headers = {\n",
    "    'Host': 'www.kayak.com',\n",
    "    'User-Agent': 'Mozilla/5.0 (Macintosh; Intel Mac OS X 10_14_0) AppleWebKit/537.36 (KHTML, like Gecko) Chrome/70.0.3538.102 Safari/537.36',\n",
    "    'Accept': '*/*',\n",
    "    'Accept-Language': 'en-US,en;q=0.9',\n",
    "    'Referer': referer,\n",
    "    'Content-Type': 'application/x-www-form-urlencoded; charset=UTF-8',\n",
    "    'X-CSRF': 'wHmLaqTX73FwzTWI81zdwlDQ8MajC3$3h8qJbgnebPw-GuMN34HxwMfDbhYdLKVU6AervhJGaz$JgaHbf6nbNoY',\n",
    "    'X-Requested-With': 'XMLHttpRequest',\n",
    "    'Content-Length': '121'\n",
    "}"
   ]
  },
  {
   "cell_type": "code",
   "execution_count": 136,
   "metadata": {
    "collapsed": true
   },
   "outputs": [],
   "source": [
    "params = {\n",
    "    'searchId': 'ElAiDHAYjr',\n",
    "    'formtoken': 'wHmLaqTX73FwzTWI81zdwlDQ8MajC3%243h8qJbgnebPw-KgPVKBqVwScDiwK2uPDqVxTn9gR6fX_hOUuNFEk0Mxo'\n",
    "}"
   ]
  },
  {
   "cell_type": "code",
   "execution_count": 145,
   "metadata": {},
   "outputs": [
    {
     "data": {
      "text/plain": [
       "{'actionableAmountMsg': 'Prices will likely increase $34',\n",
       " 'actionableDateMsg': 'Within 7 days',\n",
       " 'advice': 'buy',\n",
       " 'adviceText': 'Our Advice: Buy',\n",
       " 'alertsCta': 'Track price changes with our Price Alert emails.',\n",
       " 'buy': True,\n",
       " 'cssClass': 'buy',\n",
       " 'infoText': \"Prices predicted to rise <br> <span class='price'>$34</span> by <span class='date'>Nov 25</span>\",\n",
       " 'moreInfoText': \"Our data scientists think these are the best prices you'll see for the next seven days.\\nLike weather forecasters, though, they can't be 100% certain. Our purchase advisory, shown here, is based on an analysis of current and past prices.\"}"
      ]
     },
     "execution_count": 145,
     "metadata": {},
     "output_type": "execute_result"
    }
   ],
   "source": [
    "next = requests.post(url, headers=headers, data=params)\n",
    "advice = next.json()\n",
    "advice"
   ]
  },
  {
   "cell_type": "code",
   "execution_count": 146,
   "metadata": {},
   "outputs": [],
   "source": [
    "price_change = advice['actionableAmountMsg']\n",
    "buy_or_wait = advice['advice']"
   ]
  },
  {
   "cell_type": "code",
   "execution_count": 148,
   "metadata": {
    "collapsed": true
   },
   "outputs": [],
   "source": [
    "regex = re.compile(r'\\\\bincrease by \\\\b\\$[0-9]*')\n",
    "matches = regex.finditer(price_change)\n",
    "for r in matches:\n",
    "    print(r.group())\n",
    "    increase = r.group()"
   ]
  },
  {
   "cell_type": "code",
   "execution_count": 149,
   "metadata": {
    "scrolled": true
   },
   "outputs": [
    {
     "name": "stdout",
     "output_type": "stream",
     "text": [
      "Prices will increase by 34\n",
      "Kayak wants you to buy\n"
     ]
    }
   ],
   "source": [
    "print(\"Prices will increase by\", str(increase))\n",
    "print(\"Kayak wants you to \" + advice['advice'])"
   ]
  },
  {
   "cell_type": "code",
   "execution_count": 150,
   "metadata": {},
   "outputs": [
    {
     "ename": "JSONDecodeError",
     "evalue": "Expecting value: line 10 column 17 (char 35)",
     "output_type": "error",
     "traceback": [
      "\u001b[0;31m---------------------------------------------------------------------------\u001b[0m",
      "\u001b[0;31mJSONDecodeError\u001b[0m                           Traceback (most recent call last)",
      "\u001b[0;32m<ipython-input-150-a09d516a8554>\u001b[0m in \u001b[0;36m<module>\u001b[0;34m()\u001b[0m\n\u001b[1;32m    151\u001b[0m \u001b[0;34m\u001b[0m\u001b[0m\n\u001b[1;32m    152\u001b[0m \u001b[0mnext\u001b[0m \u001b[0;34m=\u001b[0m \u001b[0mrequests\u001b[0m\u001b[0;34m.\u001b[0m\u001b[0mpost\u001b[0m\u001b[0;34m(\u001b[0m\u001b[0murl2\u001b[0m\u001b[0;34m,\u001b[0m \u001b[0mheaders\u001b[0m \u001b[0;34m=\u001b[0m \u001b[0mheaders\u001b[0m\u001b[0;34m,\u001b[0m \u001b[0mdata\u001b[0m \u001b[0;34m=\u001b[0m \u001b[0mparams1\u001b[0m\u001b[0;34m,\u001b[0m \u001b[0mcookies\u001b[0m \u001b[0;34m=\u001b[0m \u001b[0mlayer1Cookies\u001b[0m\u001b[0;34m)\u001b[0m\u001b[0;34m\u001b[0m\u001b[0m\n\u001b[0;32m--> 153\u001b[0;31m \u001b[0mprint\u001b[0m\u001b[0;34m(\u001b[0m\u001b[0mnext\u001b[0m\u001b[0;34m.\u001b[0m\u001b[0mjson\u001b[0m\u001b[0;34m(\u001b[0m\u001b[0;34m)\u001b[0m\u001b[0;34m)\u001b[0m\u001b[0;34m\u001b[0m\u001b[0m\n\u001b[0m",
      "\u001b[0;32m~/anaconda3/lib/python3.6/site-packages/requests/models.py\u001b[0m in \u001b[0;36mjson\u001b[0;34m(self, **kwargs)\u001b[0m\n\u001b[1;32m    890\u001b[0m                     \u001b[0;31m# used.\u001b[0m\u001b[0;34m\u001b[0m\u001b[0;34m\u001b[0m\u001b[0m\n\u001b[1;32m    891\u001b[0m                     \u001b[0;32mpass\u001b[0m\u001b[0;34m\u001b[0m\u001b[0m\n\u001b[0;32m--> 892\u001b[0;31m         \u001b[0;32mreturn\u001b[0m \u001b[0mcomplexjson\u001b[0m\u001b[0;34m.\u001b[0m\u001b[0mloads\u001b[0m\u001b[0;34m(\u001b[0m\u001b[0mself\u001b[0m\u001b[0;34m.\u001b[0m\u001b[0mtext\u001b[0m\u001b[0;34m,\u001b[0m \u001b[0;34m**\u001b[0m\u001b[0mkwargs\u001b[0m\u001b[0;34m)\u001b[0m\u001b[0;34m\u001b[0m\u001b[0m\n\u001b[0m\u001b[1;32m    893\u001b[0m \u001b[0;34m\u001b[0m\u001b[0m\n\u001b[1;32m    894\u001b[0m     \u001b[0;34m@\u001b[0m\u001b[0mproperty\u001b[0m\u001b[0;34m\u001b[0m\u001b[0m\n",
      "\u001b[0;32m~/anaconda3/lib/python3.6/json/__init__.py\u001b[0m in \u001b[0;36mloads\u001b[0;34m(s, encoding, cls, object_hook, parse_float, parse_int, parse_constant, object_pairs_hook, **kw)\u001b[0m\n\u001b[1;32m    352\u001b[0m             \u001b[0mparse_int\u001b[0m \u001b[0;32mis\u001b[0m \u001b[0;32mNone\u001b[0m \u001b[0;32mand\u001b[0m \u001b[0mparse_float\u001b[0m \u001b[0;32mis\u001b[0m \u001b[0;32mNone\u001b[0m \u001b[0;32mand\u001b[0m\u001b[0;34m\u001b[0m\u001b[0m\n\u001b[1;32m    353\u001b[0m             parse_constant is None and object_pairs_hook is None and not kw):\n\u001b[0;32m--> 354\u001b[0;31m         \u001b[0;32mreturn\u001b[0m \u001b[0m_default_decoder\u001b[0m\u001b[0;34m.\u001b[0m\u001b[0mdecode\u001b[0m\u001b[0;34m(\u001b[0m\u001b[0ms\u001b[0m\u001b[0;34m)\u001b[0m\u001b[0;34m\u001b[0m\u001b[0m\n\u001b[0m\u001b[1;32m    355\u001b[0m     \u001b[0;32mif\u001b[0m \u001b[0mcls\u001b[0m \u001b[0;32mis\u001b[0m \u001b[0;32mNone\u001b[0m\u001b[0;34m:\u001b[0m\u001b[0;34m\u001b[0m\u001b[0m\n\u001b[1;32m    356\u001b[0m         \u001b[0mcls\u001b[0m \u001b[0;34m=\u001b[0m \u001b[0mJSONDecoder\u001b[0m\u001b[0;34m\u001b[0m\u001b[0m\n",
      "\u001b[0;32m~/anaconda3/lib/python3.6/json/decoder.py\u001b[0m in \u001b[0;36mdecode\u001b[0;34m(self, s, _w)\u001b[0m\n\u001b[1;32m    337\u001b[0m \u001b[0;34m\u001b[0m\u001b[0m\n\u001b[1;32m    338\u001b[0m         \"\"\"\n\u001b[0;32m--> 339\u001b[0;31m         \u001b[0mobj\u001b[0m\u001b[0;34m,\u001b[0m \u001b[0mend\u001b[0m \u001b[0;34m=\u001b[0m \u001b[0mself\u001b[0m\u001b[0;34m.\u001b[0m\u001b[0mraw_decode\u001b[0m\u001b[0;34m(\u001b[0m\u001b[0ms\u001b[0m\u001b[0;34m,\u001b[0m \u001b[0midx\u001b[0m\u001b[0;34m=\u001b[0m\u001b[0m_w\u001b[0m\u001b[0;34m(\u001b[0m\u001b[0ms\u001b[0m\u001b[0;34m,\u001b[0m \u001b[0;36m0\u001b[0m\u001b[0;34m)\u001b[0m\u001b[0;34m.\u001b[0m\u001b[0mend\u001b[0m\u001b[0;34m(\u001b[0m\u001b[0;34m)\u001b[0m\u001b[0;34m)\u001b[0m\u001b[0;34m\u001b[0m\u001b[0m\n\u001b[0m\u001b[1;32m    340\u001b[0m         \u001b[0mend\u001b[0m \u001b[0;34m=\u001b[0m \u001b[0m_w\u001b[0m\u001b[0;34m(\u001b[0m\u001b[0ms\u001b[0m\u001b[0;34m,\u001b[0m \u001b[0mend\u001b[0m\u001b[0;34m)\u001b[0m\u001b[0;34m.\u001b[0m\u001b[0mend\u001b[0m\u001b[0;34m(\u001b[0m\u001b[0;34m)\u001b[0m\u001b[0;34m\u001b[0m\u001b[0m\n\u001b[1;32m    341\u001b[0m         \u001b[0;32mif\u001b[0m \u001b[0mend\u001b[0m \u001b[0;34m!=\u001b[0m \u001b[0mlen\u001b[0m\u001b[0;34m(\u001b[0m\u001b[0ms\u001b[0m\u001b[0;34m)\u001b[0m\u001b[0;34m:\u001b[0m\u001b[0;34m\u001b[0m\u001b[0m\n",
      "\u001b[0;32m~/anaconda3/lib/python3.6/json/decoder.py\u001b[0m in \u001b[0;36mraw_decode\u001b[0;34m(self, s, idx)\u001b[0m\n\u001b[1;32m    355\u001b[0m             \u001b[0mobj\u001b[0m\u001b[0;34m,\u001b[0m \u001b[0mend\u001b[0m \u001b[0;34m=\u001b[0m \u001b[0mself\u001b[0m\u001b[0;34m.\u001b[0m\u001b[0mscan_once\u001b[0m\u001b[0;34m(\u001b[0m\u001b[0ms\u001b[0m\u001b[0;34m,\u001b[0m \u001b[0midx\u001b[0m\u001b[0;34m)\u001b[0m\u001b[0;34m\u001b[0m\u001b[0m\n\u001b[1;32m    356\u001b[0m         \u001b[0;32mexcept\u001b[0m \u001b[0mStopIteration\u001b[0m \u001b[0;32mas\u001b[0m \u001b[0merr\u001b[0m\u001b[0;34m:\u001b[0m\u001b[0;34m\u001b[0m\u001b[0m\n\u001b[0;32m--> 357\u001b[0;31m             \u001b[0;32mraise\u001b[0m \u001b[0mJSONDecodeError\u001b[0m\u001b[0;34m(\u001b[0m\u001b[0;34m\"Expecting value\"\u001b[0m\u001b[0;34m,\u001b[0m \u001b[0ms\u001b[0m\u001b[0;34m,\u001b[0m \u001b[0merr\u001b[0m\u001b[0;34m.\u001b[0m\u001b[0mvalue\u001b[0m\u001b[0;34m)\u001b[0m \u001b[0;32mfrom\u001b[0m \u001b[0;32mNone\u001b[0m\u001b[0;34m\u001b[0m\u001b[0m\n\u001b[0m\u001b[1;32m    358\u001b[0m         \u001b[0;32mreturn\u001b[0m \u001b[0mobj\u001b[0m\u001b[0;34m,\u001b[0m \u001b[0mend\u001b[0m\u001b[0;34m\u001b[0m\u001b[0m\n",
      "\u001b[0;31mJSONDecodeError\u001b[0m: Expecting value: line 10 column 17 (char 35)"
     ]
    }
   ],
   "source": [
    "url2 = url + '/s/horizon/flights/results/FlightSearchPoll'\n",
    "\n",
    "origin_code = 'WAS'\n",
    "origin_location = 'WASHINGTON'\n",
    "destination_code = 'AMD'\n",
    "destination_location = 'Ahmedabad'\n",
    "depart_date = '2018-12-20'\n",
    "return_date = '2019-01-27'\n",
    "\n",
    "referer = 'https://www.kayak.com/flights/'+origin_code+'-'+destination_code+'/'+depart_date+'/'+return_date\n",
    "headers = {\n",
    "    'Host': 'www.kayak.com',\n",
    "    'User-Agent': 'Chrome/63 (Macintosh; Intel Mac OS X 10.11; rv:57.0) Gecko/20100101 Firefox/57.0',\n",
    "    'Accept': '*/*',\n",
    "    'Accept-Language': 'en-US,en;q=0.5',\n",
    "    'Referer': referer,\n",
    "    'Content-Type': 'application/x-www-form-urlencoded',\n",
    "    'X-CSRF': 'kAqI1NgGh$DJnEUpiSDOWpdQXzlgAwG8EVOCd$gXO08-hpumC4oNpaOjz15GO_q9a5FdZPonpC2kF4CBYjEPh14',\n",
    "    'X-RequestId': 'flights#frontdoor#Ag$s9g',\n",
    "    'X-Requested-With': 'XMLHttpRequest',\n",
    "    'Content-Length': '1094'\n",
    "}\n",
    "params = {\n",
    "    'searchId':'',\n",
    "    'poll':'true',\n",
    "    'pollNumber':'0',\n",
    "    'applyFilters':'true',\n",
    "    'filterState':'',\n",
    "    'useViewStateFilterState':'false',\n",
    "    'pageNumber':'1',\n",
    "    'append':'false',\n",
    "    'pollingId':'593606',  #interesting. explore further\n",
    "    'requestReason':'POLL',\n",
    "    'isSecondPhase':'false',\n",
    "    'textAndPageLocations':'bottom,right',\n",
    "    'displayAdPageLocations':'none',\n",
    "    'existingAds':'false',\n",
    "    'activeLeg':'-1',\n",
    "    'view':'list',\n",
    "    'renderPlusMinusThreeFlex':'false',\n",
    "    'renderAirlineStopsMatrix':'false',\n",
    "    'renderFlexHeader':'true',\n",
    "    'tab':'flights',\n",
    "    'pageOrigin':'F..FD..M0',\n",
    "    'src':'',\n",
    "    'searchingAgain':'',\n",
    "    'c2s':'',\n",
    "    'po':'',\n",
    "    'personality':'',\n",
    "    'provider':'',\n",
    "    'isMulticity':'false',\n",
    "    'flex_category':'exact',\n",
    "    'depart_date':'12/30/2017',\n",
    "    'return_date':'01/31/2018',\n",
    "    'oneway':'false',\n",
    "    'origincode':'WAS',  #change accordingly\n",
    "    'origin':'WAS', #change accordingly\n",
    "    'origin_location':'Washington+(WAS)', #change accordingly\n",
    "    'origin_code':'WAS/2279', #change accordingly\n",
    "    'nearby_origin':'false',\n",
    "    'destination':'LIM', #change accordingly\n",
    "    'destination_location':'Lima', #change accordingly\n",
    "    'destination_code':'LIM/2270', #change accordingly\n",
    "    'nearby_destination':'false',\n",
    "    'countrySearch':'false',\n",
    "    'depart_date_canon':'2017-12-30', #change accordingly\n",
    "    'return_date_canon':'2018-01-31', #change accordingly\n",
    "    'travelers':'1',\n",
    "    'adults':'1',\n",
    "    'seniors':'0',\n",
    "    'youth':'0',\n",
    "    'child':'0',\n",
    "    'seatInfant':'0',\n",
    "    'lapInfant':'0',\n",
    "    'cabin':'e',\n",
    "    'cabinDisplayType':'Economy',\n",
    "    'vertical':'flights',\n",
    "    'url':'flights/WAS-LIM/2017-12-30/2018-01-31',\n",
    "    'id':'',\n",
    "    'navigateToResults':'false',\n",
    "    'ajaxts':'',\n",
    "    'scriptsMetadata':'',\n",
    "    'stylesMetadata':'',\n",
    "}\n",
    "\n",
    "\n",
    "url3 = 'flights/'+origin_code+'-'+destination_code+'/'+depart_date+'/'+return_date\n",
    "\n",
    "params1 = {\n",
    "    'searchId':'',\n",
    "    'poll':'true',\n",
    "    'pollNumber':'0',\n",
    "    'applyFilters':'true',\n",
    "    'filterState':'',\n",
    "    'useViewStateFilterState':'false',\n",
    "    'pageNumber':'1',\n",
    "    'append':'false',\n",
    "    'pollingId':'593601',  #interesting. explore further\n",
    "    'requestReason':'POLL',\n",
    "    'isSecondPhase':'false',\n",
    "    'textAndPageLocations':'bottom,right',\n",
    "    'displayAdPageLocations':'none',\n",
    "    'existingAds':'false',\n",
    "    'activeLeg':'-1',\n",
    "    'view':'list',\n",
    "    'renderPlusMinusThreeFlex':'false',\n",
    "    'renderAirlineStopsMatrix':'false',\n",
    "    'renderFlexHeader':'true',\n",
    "    'tab':'flights',\n",
    "    'pageOrigin':'F..FD..M0',\n",
    "    'src':'',\n",
    "    'searchingAgain':'',\n",
    "    'c2s':'',\n",
    "    'po':'',\n",
    "    'personality':'',\n",
    "    'provider':'',\n",
    "    'isMulticity':'false',\n",
    "    'flex_category':'exact',\n",
    "    'depart_date':depart_date,\n",
    "    'return_date':return_date,\n",
    "    'oneway':'false',\n",
    "    'origincode':origin_code,  #change accordingly\n",
    "    'origin':origin_code, #change accordingly\n",
    "    'origin_location':origin_location, #change accordingly\n",
    "    'origin_code':'', #change accordingly\n",
    "    'nearby_origin':'false',\n",
    "    'destination':destination_code, #change accordingly\n",
    "    'destination_location':destination_location, #change accordingly\n",
    "    'destination_code':'', #change accordingly\n",
    "    'nearby_destination':'false',\n",
    "    'countrySearch':'false',\n",
    "    'depart_date_canon':depart_date, #change accordingly\n",
    "    'return_date_canon':return_date, #change accordingly\n",
    "    'travelers':'1',\n",
    "    'adults':'1',\n",
    "    'seniors':'0',\n",
    "    'youth':'0',\n",
    "    'child':'0',\n",
    "    'seatInfant':'0',\n",
    "    'lapInfant':'0',\n",
    "    'cabin':'e',\n",
    "    'cabinDisplayType':'Economy',\n",
    "    'vertical':'flights',\n",
    "    'url':url3,\n",
    "    'id':'',\n",
    "    'navigateToResults':'false',\n",
    "    'ajaxts':'',\n",
    "    'scriptsMetadata':'',\n",
    "    'stylesMetadata':'',\n",
    "}\n",
    "\n",
    "next = requests.post(url2, headers = headers, data = params1, cookies = layer1Cookies)\n",
    "print(next.json())"
   ]
  },
  {
   "cell_type": "code",
   "execution_count": null,
   "metadata": {
    "collapsed": true
   },
   "outputs": [],
   "source": []
  }
 ],
 "metadata": {
  "kernelspec": {
   "display_name": "Python 3",
   "language": "python",
   "name": "python3"
  },
  "language_info": {
   "codemirror_mode": {
    "name": "ipython",
    "version": 3
   },
   "file_extension": ".py",
   "mimetype": "text/x-python",
   "name": "python",
   "nbconvert_exporter": "python",
   "pygments_lexer": "ipython3",
   "version": "3.6.3"
  }
 },
 "nbformat": 4,
 "nbformat_minor": 2
}
