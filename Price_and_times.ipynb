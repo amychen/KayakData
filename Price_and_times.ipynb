{
 "cells": [
  {
   "cell_type": "markdown",
   "metadata": {},
   "source": [
    "# Kayak Flight Data"
   ]
  },
  {
   "cell_type": "markdown",
   "metadata": {},
   "source": [
    "Data we need:\n",
    "Main cities\n",
    "- nonstop, one-way domestic - how many? - Valerie\n",
    "- Kayak gives 10: NYC, Vegas, LA, Chicago, SF, Orlando, Denver, Washington DC, Seattle, Boston\n",
    "\n",
    "Departure time/date -- 12/22 up to 1/1\n",
    "- Filter non-stop\n",
    "\n",
    "Figure out url for loop (url format)\n",
    "\n",
    "Kayak’s advice - - AMY\n",
    "\n",
    "Airlines available for the flight- Jon \n",
    "\n",
    "Ticket price-- Nicole\n"
   ]
  },
  {
   "cell_type": "code",
   "execution_count": 1,
   "metadata": {},
   "outputs": [],
   "source": [
    "%matplotlib inline\n",
    "%config InlineBackend.figure_format = 'retina'"
   ]
  },
  {
   "cell_type": "code",
   "execution_count": 2,
   "metadata": {},
   "outputs": [],
   "source": [
    "import requests\n",
    "from bs4 import BeautifulSoup\n",
    "from lxml import html\n",
    "import json\n",
    "import pandas\n",
    "import re"
   ]
  },
  {
   "cell_type": "code",
   "execution_count": 3,
   "metadata": {},
   "outputs": [],
   "source": [
    "url = 'https://www.kayak.com'\n",
    "r = requests.get(url)\n",
    "layer1Cookies = r.cookies\n",
    "\n",
    "url2 = url + '/s/horizon/flights/results/FlightSearchPoll'\n",
    "\n",
    "origin_code = 'WAS'\n",
    "origin_location = 'WASHINGTON'\n",
    "destination_code = 'AMD'\n",
    "destination_location = 'Ahmedabad'\n",
    "depart_date = '2018-12-20'\n",
    "return_date = '2019-01-27'\n",
    "\n",
    "referer = 'https://www.kayak.com/flights/'+origin_code+'-'+destination_code+'/'+depart_date+'/'+return_date\n",
    "headers = {\n",
    "    'Host': 'www.kayak.com',\n",
    "    'User-Agent': 'Chrome/63 (Macintosh; Intel Mac OS X 10.11; rv:57.0) Gecko/20100101 Firefox/57.0',\n",
    "    'Accept': '*/*',\n",
    "    'Accept-Language': 'en-US,en;q=0.5',\n",
    "    'Referer': referer,\n",
    "    'Content-Type': 'application/x-www-form-urlencoded',\n",
    "    'X-CSRF': 'kAqI1NgGh$DJnEUpiSDOWpdQXzlgAwG8EVOCd$gXO08-hpumC4oNpaOjz15GO_q9a5FdZPonpC2kF4CBYjEPh14',\n",
    "    'X-RequestId': 'flights#frontdoor#Ag$s9g',\n",
    "    'X-Requested-With': 'XMLHttpRequest',\n",
    "    'Content-Length': '1094'\n",
    "}\n",
    "\n",
    "url3 = 'flights/'+origin_code+'-'+destination_code+'/'+depart_date+'/'+return_date\n",
    "\n",
    "params1 = {\n",
    "    'searchId':'',\n",
    "    'poll':'true',\n",
    "    'pollNumber':'0',\n",
    "    'applyFilters':'true',\n",
    "    'filterState':'',\n",
    "    'useViewStateFilterState':'false',\n",
    "    'pageNumber':'1',\n",
    "    'append':'false',\n",
    "    'pollingId':'593601',  #interesting. explore further\n",
    "    'requestReason':'POLL',\n",
    "    'isSecondPhase':'false',\n",
    "    'textAndPageLocations':'bottom,right',\n",
    "    'displayAdPageLocations':'none',\n",
    "    'existingAds':'false',\n",
    "    'activeLeg':'-1',\n",
    "    'view':'list',\n",
    "    'renderPlusMinusThreeFlex':'false',\n",
    "    'renderAirlineStopsMatrix':'false',\n",
    "    'renderFlexHeader':'true',\n",
    "    'tab':'flights',\n",
    "    'pageOrigin':'F..FD..M0',\n",
    "    'src':'',\n",
    "    'searchingAgain':'',\n",
    "    'c2s':'',\n",
    "    'po':'',\n",
    "    'personality':'',\n",
    "    'provider':'',\n",
    "    'isMulticity':'false',\n",
    "    'flex_category':'exact',\n",
    "    'depart_date':depart_date,\n",
    "    'return_date':return_date,\n",
    "    'oneway':'false',\n",
    "    'origincode':origin_code,  #change accordingly\n",
    "    'origin':origin_code, #change accordingly\n",
    "    'origin_location':origin_location, #change accordingly\n",
    "    'origin_code':'', #change accordingly\n",
    "    'nearby_origin':'false',\n",
    "    'destination':destination_code, #change accordingly\n",
    "    'destination_location':destination_location, #change accordingly\n",
    "    'destination_code':'', #change accordingly\n",
    "    'nearby_destination':'false',\n",
    "    'countrySearch':'false',\n",
    "    'depart_date_canon':depart_date, #change accordingly\n",
    "    'return_date_canon':return_date, #change accordingly\n",
    "    'travelers':'1',\n",
    "    'adults':'1',\n",
    "    'seniors':'0',\n",
    "    'youth':'0',\n",
    "    'child':'0',\n",
    "    'seatInfant':'0',\n",
    "    'lapInfant':'0',\n",
    "    'cabin':'e',\n",
    "    'cabinDisplayType':'Economy',\n",
    "    'vertical':'flights',\n",
    "    'url':url3,\n",
    "    'id':'',\n",
    "    'navigateToResults':'false',\n",
    "    'ajaxts':'',\n",
    "    'scriptsMetadata':'',\n",
    "    'stylesMetadata':'',\n",
    "}\n",
    "\n",
    "\n",
    "result = requests.post(url2, headers = headers, data = params1, cookies = layer1Cookies)\n",
    "text = result.json()\n",
    "\n",
    "text = BeautifulSoup(text['content'], 'html.parser')"
   ]
  },
  {
   "cell_type": "code",
   "execution_count": 14,
   "metadata": {},
   "outputs": [],
   "source": [
    "def get_prices_from_page(text):\n",
    "    doc = html.fromstring(str(text))\n",
    "    flights = doc.xpath('//div[@class=\"Base-Results-HorizonResult Flights-Results-FlightResultItem phoenix-rising sleek rp-contrast \"]')\n",
    "    #print(flights)\n",
    "\n",
    "    result = []\n",
    "    for f in flights:\n",
    "        price_info = f.get('aria-label')\n",
    "        time_info = f.xpath('.//div//div//div//div[@class=\"col-info result-column\"]')[0]\n",
    "        time = time_info.xpath('.//div//div//ol//li//div//div//div//div//span//span[@class=\"depart-time base-time\"]')[0].text\n",
    "        am_pm = time_info.xpath('.//div//div//ol//li//div//div//div//div//span//span[@class=\"time-meridiem meridiem\"]')[0].text\n",
    "        \n",
    "        regex_price = re.compile(r'(\\$)(\\d*)',re.VERBOSE)\n",
    "        matches_price = regex_price.finditer(price_info)\n",
    "        for match in matches_price:\n",
    "            clean_price = match.group(2)\n",
    "            entry = {\n",
    "                'price' : clean_price,\n",
    "                'time' : time + am_pm\n",
    "            }\n",
    "            result.append(entry)\n",
    "        \n",
    "    return result"
   ]
  },
  {
   "cell_type": "code",
   "execution_count": 15,
   "metadata": {},
   "outputs": [
    {
     "data": {
      "text/plain": [
       "[{'price': '1845', 'time': '10:55 pm'},\n",
       " {'price': '2062', 'time': '6:35 pm'},\n",
       " {'price': '1845', 'time': '10:55 pm'},\n",
       " {'price': '1870', 'time': '10:55 pm'},\n",
       " {'price': '1870', 'time': '10:55 pm'},\n",
       " {'price': '1870', 'time': '10:55 pm'},\n",
       " {'price': '1870', 'time': '10:55 pm'},\n",
       " {'price': '1883', 'time': '10:55 pm'},\n",
       " {'price': '1893', 'time': '10:55 pm'},\n",
       " {'price': '1893', 'time': '10:55 pm'},\n",
       " {'price': '1968', 'time': '6:35 pm'},\n",
       " {'price': '2019', 'time': '6:35 pm'},\n",
       " {'price': '2055', 'time': '6:35 pm'},\n",
       " {'price': '2082', 'time': '6:35 pm'},\n",
       " {'price': '2097', 'time': '10:55 pm'}]"
      ]
     },
     "execution_count": 15,
     "metadata": {},
     "output_type": "execute_result"
    }
   ],
   "source": [
    "get_prices_from_page(text)"
   ]
  },
  {
   "cell_type": "code",
   "execution_count": null,
   "metadata": {},
   "outputs": [],
   "source": []
  }
 ],
 "metadata": {
  "kernelspec": {
   "display_name": "Python 3",
   "language": "python",
   "name": "python3"
  },
  "language_info": {
   "codemirror_mode": {
    "name": "ipython",
    "version": 3
   },
   "file_extension": ".py",
   "mimetype": "text/x-python",
   "name": "python",
   "nbconvert_exporter": "python",
   "pygments_lexer": "ipython3",
   "version": "3.6.4"
  }
 },
 "nbformat": 4,
 "nbformat_minor": 2
}
