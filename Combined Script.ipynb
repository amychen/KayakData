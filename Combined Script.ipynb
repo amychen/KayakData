{
 "cells": [
  {
   "cell_type": "code",
   "execution_count": 1,
   "metadata": {},
   "outputs": [],
   "source": [
    "import requests\n",
    "from bs4 import BeautifulSoup\n",
    "from sqlalchemy import create_engine\n",
    "from lxml import html\n",
    "import json\n",
    "import pandas as pd\n",
    "import re\n",
    "import seaborn as sns\n",
    "import datetime\n",
    "from datetime import timedelta\n",
    "import numpy as np"
   ]
  },
  {
   "cell_type": "code",
   "execution_count": 2,
   "metadata": {
    "scrolled": true
   },
   "outputs": [],
   "source": [
    "airport_code = ['BOS', 'SEA', 'DCA', 'DEN', 'ORL', 'SFO', 'CHI', 'LAX', 'LAS']\n",
    "\n",
    "# ['LAS', 'LAX', 'CHI', 'SFO', 'ORL', 'DEN', 'DCA', 'SEA', 'BOS']\n",
    "day_delta = datetime.timedelta(days=1)\n",
    "start_date = datetime.date(2018, 12, 22)\n",
    "end_date = start_date + 11*day_delta\n",
    "\n",
    "url_list = []\n",
    "\n",
    "for airport in airport_code:\n",
    "    for i in range((end_date - start_date).days):\n",
    "        day = start_date + i*day_delta\n",
    "        url = 'https://www.kayak.com/flights/NYC-' + str(airport) + '/' + str(day) + '?sort=bestflight_a&fs=stops=0'\n",
    "        url_list.append(url)"
   ]
  },
  {
   "cell_type": "code",
   "execution_count": 3,
   "metadata": {
    "scrolled": true
   },
   "outputs": [],
   "source": [
    "def create_flight_price_text(flight_url):\n",
    "    r = requests.get('https://www.kayak.com')\n",
    "    layer1Cookies = r.cookies\n",
    "\n",
    "    flight_search_xhr = 'https://www.kayak.com/s/horizon/flights/results/FlightSearchPoll?p=0'\n",
    "    \n",
    "    params1 = {\n",
    "        'searchId':'',\n",
    "        'poll':'true',\n",
    "        'pollNumber':'0',\n",
    "        'applyFilters':'true',\n",
    "        'filterState':'',\n",
    "        'useViewStateFilterState':'false',\n",
    "        'pageNumber':'1',\n",
    "        'append':'false',\n",
    "        'pollingId':'593601',  #interesting. explore further\n",
    "        'requestReason':'POLL',\n",
    "        'isSecondPhase':'false',\n",
    "        'textAndPageLocations':'bottom,right',\n",
    "        'displayAdPageLocations':'none',\n",
    "        'existingAds':'false',\n",
    "        'activeLeg':'-1',\n",
    "        'view':'list',\n",
    "        'renderPlusMinusThreeFlex':'false',\n",
    "        'renderAirlineStopsMatrix':'false',\n",
    "        'renderFlexHeader':'true',\n",
    "        'tab':'flights',\n",
    "        'pageOrigin':'F..FD..M0',\n",
    "        'src':'',\n",
    "        'searchingAgain':'',\n",
    "        'c2s':'',\n",
    "        'po':'',\n",
    "        'personality':'',\n",
    "        'provider':'',\n",
    "        'isMulticity':'false',\n",
    "        'flex_category':'exact',\n",
    "        'oneway':'true',\n",
    "        'nearby_origin':'false',\n",
    "        'nearby_destination':'false',\n",
    "        'countrySearch':'false',\n",
    "        'travelers':'1',\n",
    "        'adults':'1',\n",
    "        'seniors':'0',\n",
    "        'youth':'0',\n",
    "        'child':'0',\n",
    "        'seatInfant':'0',\n",
    "        'lapInfant':'0',\n",
    "        'cabin':'e',\n",
    "        'cabinDisplayType':'Economy',\n",
    "        'vertical':'flights',\n",
    "        'url':flight_url,\n",
    "        'id':'',\n",
    "        'navigateToResults':'false',\n",
    "        'ajaxts':'',\n",
    "        'scriptsMetadata':'',\n",
    "        'stylesMetadata':'',\n",
    "    }\n",
    "    \n",
    "    headers = {\n",
    "        'Host': 'www.kayak.com',\n",
    "        'User-Agent': 'Chrome/63 (Macintosh; Intel Mac OS X 10.11; rv:57.0) Gecko/20100101 Firefox/57.0',\n",
    "        'Accept': '*/*',\n",
    "        'Accept-Language': 'en-US,en;q=0.5',\n",
    "        'Referer': flight_url,\n",
    "        'Content-Type': 'application/x-www-form-urlencoded',\n",
    "        'X-CSRF': 'wHmLaqTX73FwzTWI81zdwlDQ8MajC3$3h8qJbgnebPw-14laOh3kAIxCpYsD31euG5m6roEWuKaZoRP7VMBrIb0',\n",
    "        'X-RequestId': 'flights#results#diwE25',\n",
    "        'X-Requested-With': 'XMLHttpRequest',\n",
    "        'Content-Length': '1094'\n",
    "    }\n",
    "\n",
    "\n",
    "    result = requests.post(flight_search_xhr, headers = headers, data = params1, cookies = layer1Cookies).text\n",
    "#     text = result.json()\n",
    "    \n",
    "#     text = BeautifulSoup(text['content'], 'html.parser')\n",
    "    return result"
   ]
  },
  {
   "cell_type": "code",
   "execution_count": 5,
   "metadata": {
    "scrolled": true
   },
   "outputs": [
    {
     "data": {
      "text/plain": [
       "'{\"captchaRedirectUrl\":\"/h/bots/captcha?uuid=d76a8b00-fc05-11e8-947f-918a139e230a&vid=\"}'"
      ]
     },
     "execution_count": 5,
     "metadata": {},
     "output_type": "execute_result"
    }
   ],
   "source": [
    "create_flight_price_text('https://www.kayak.com/flights/NYC-BOS/2018-12-22?sort=bestflight_a&fs=stops=0')"
   ]
  },
  {
   "cell_type": "code",
   "execution_count": 5,
   "metadata": {},
   "outputs": [],
   "source": [
    "def getPricePrediction(flight_url):\n",
    "    prediction_url = \"https://www.kayak.com/s/horizon/flights/results/FlightPricePredictionAction\"\n",
    "    flight_search_html = requests.get(flight_url)\n",
    "\n",
    "    s_id = re.compile(r'searchID=(\\w+)')\n",
    "    matches = s_id.finditer(str(create_flight_price_text(url))) #\n",
    "    searchId = \"\"\n",
    "    for m in matches:\n",
    "        searchId = m.group(1)\n",
    "\n",
    "    token = re.compile(r\"\"\"\\\"formtoken\\\":\\\"(.+)\\\"\\,\"\"\")\n",
    "    matches = token.finditer(flight_search_html.text)\n",
    "    formtoken = \"\"\n",
    "    for m in matches:\n",
    "        formtoken = m.group(1)\n",
    "        \n",
    "    headers = {\n",
    "        'Host': 'www.kayak.com',\n",
    "        'User-Agent': 'Chrome/63 (Macintosh; Intel Mac OS X 10.11; rv:57.0) Gecko/20100101 Firefox/57.0',\n",
    "        'Accept': '*/*',\n",
    "        'Accept-Language': 'en-US,en;q=0.5',\n",
    "        'Referer': flight_url,\n",
    "        'Content-Type': 'application/x-www-form-urlencoded',\n",
    "        'X-CSRF': 'kAqI1NgGh$DJnEUpiSDOWpdQXzlgAwG8EVOCd$gXO08-hpumC4oNpaOjz15GO_q9a5FdZPonpC2kF4CBYjEPh14',\n",
    "        'X-RequestId': 'flights#frontdoor#Ag$s9g',\n",
    "        'X-Requested-With': 'XMLHttpRequest',\n",
    "        'Content-Length': '1094'\n",
    "    }\n",
    "    params = {\n",
    "        'searchId': searchId,\n",
    "        'formtoken': formtoken\n",
    "    }\n",
    "    \n",
    "    advice = requests.post(prediction_url, headers=headers, data=params)\n",
    "    return advice.json()['infoText']\n",
    "#print(getPricePrediction(\"https://www.kayak.com/flights/NYC-BOS/2018-12-22?sort=bestflight_a&fs=stops=0\"))"
   ]
  },
  {
   "cell_type": "code",
   "execution_count": 6,
   "metadata": {},
   "outputs": [],
   "source": [
    "def get_prices_times(text):\n",
    "    doc = html.fromstring(str(text))\n",
    "    flights = doc.xpath('//div[@class=\"Base-Results-HorizonResult Flights-Results-FlightResultItem phoenix-rising sleek rp-contrast \"]')\n",
    "    \n",
    "    result = []\n",
    "    for f in flights:\n",
    "        price_info = f.get('aria-label')\n",
    "        time_info = f.xpath('.//div//div//div//div[@class=\"col-info result-column\"]')[0]\n",
    "        time = time_info.xpath('.//div//div//ol//li//div//div//div//div//span//span[@class=\"depart-time base-time\"]')[0].text\n",
    "        am_pm = time_info.xpath('.//div//div//ol//li//div//div//div//div//span//span[@class=\"time-meridiem meridiem\"]')[0].text\n",
    "        airline = time_info.xpath('.//div//div//ol//li//div//div//div//div[@class=\"bottom\"]')[0].text\n",
    "        \n",
    "        regex_price = re.compile(r'(\\$)(\\d*)',re.VERBOSE)\n",
    "        matches_price = regex_price.finditer(price_info)\n",
    "        for match in matches_price:\n",
    "            clean_price = match.group(2)\n",
    "            entry = {\n",
    "                'price' : clean_price,\n",
    "                'time' : time + am_pm,\n",
    "                'airline' : airline\n",
    "            }\n",
    "            result.append(entry)\n",
    "        \n",
    "    return result"
   ]
  },
  {
   "cell_type": "code",
   "execution_count": 7,
   "metadata": {},
   "outputs": [],
   "source": [
    "def get_flights(html):\n",
    "    flights = html.find_all('li', 'flight')\n",
    "    result = []\n",
    "    for f in flights:\n",
    "        info = str(f.find('div', 'bottom'))\n",
    "        info = info.replace('<div class=\"bottom\">', '')\n",
    "        info = info.replace(\"</div>\", '')\n",
    "        result.append(info)\n",
    "        \n",
    "    return result"
   ]
  },
  {
   "cell_type": "code",
   "execution_count": null,
   "metadata": {
    "scrolled": true
   },
   "outputs": [],
   "source": [
    "conn_string = 'mysql://{user}:{password}@{host}/'.format(\n",
    "                host = '35.237.252.223',\n",
    "                user = 'root',\n",
    "                password = 'x3rGjkz93e6CIkd7')\n",
    "engine = create_engine(conn_string)\n",
    "con = engine.connect()"
   ]
  },
  {
   "cell_type": "code",
   "execution_count": null,
   "metadata": {},
   "outputs": [],
   "source": [
    "insert_template = '''\n",
    "INSERT IGNORE INTO kayak.flight(\n",
    "    Airline, Price,\n",
    "    Date, Time,\n",
    "    Timestamp,\n",
    "    Destination,\n",
    "    Prediction)\n",
    "    VALUES (%s, %s, %s, %s, %s, %s, %s)\n",
    "'''"
   ]
  },
  {
   "cell_type": "code",
   "execution_count": null,
   "metadata": {
    "scrolled": true
   },
   "outputs": [],
   "source": [
    "for url in url_list:\n",
    "    date_loc = re.compile(r'([A-Z]{3})/([\\d-]{10})')\n",
    "    dl = date_loc.finditer(url)\n",
    "    date = \"\"\n",
    "    destination = \"\"\n",
    "    for match in dl:\n",
    "        #destination #departure date\n",
    "        date = match.group(2)\n",
    "        destination = match.group(1)\n",
    "        \n",
    "    #timestamp\n",
    "    fetch_time = datetime.datetime.now()\n",
    "    price_dict = get_prices_times(create_flight_price_text(url))\n",
    "#    flight_list = get_flights(create_flight_price_text(url))\n",
    "    advice = getPricePrediction(url)\n",
    "    \n",
    "    for i in range(0, len(price_dict)):\n",
    "#         price_dict[i]['airline'] = flight_list[i]\n",
    "        price_dict[i]['prediction'] = advice\n",
    "        \n",
    "        query_parameters = (price_dict[i]['airline'], int(price_dict[i]['price']), date, price_dict[i]['time'],\n",
    "                        fetch_time, destination, advice)\n",
    "        engine.execute(insert_template, query_parameters)"
   ]
  },
  {
   "cell_type": "code",
   "execution_count": null,
   "metadata": {},
   "outputs": [],
   "source": []
  }
 ],
 "metadata": {
  "kernelspec": {
   "display_name": "Python 3",
   "language": "python",
   "name": "python3"
  },
  "language_info": {
   "codemirror_mode": {
    "name": "ipython",
    "version": 3
   },
   "file_extension": ".py",
   "mimetype": "text/x-python",
   "name": "python",
   "nbconvert_exporter": "python",
   "pygments_lexer": "ipython3",
   "version": "3.6.7"
  }
 },
 "nbformat": 4,
 "nbformat_minor": 2
}
