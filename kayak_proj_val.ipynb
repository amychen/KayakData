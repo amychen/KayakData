{
 "cells": [
  {
   "cell_type": "markdown",
   "metadata": {},
   "source": [
    "# xpath part"
   ]
  },
  {
   "cell_type": "code",
   "execution_count": 2,
   "metadata": {
    "collapsed": true
   },
   "outputs": [],
   "source": [
    "from lxml import html\n",
    "from xml.etree import ElementTree\n",
    "import matplotlib\n",
    "import matplotlib.pyplot as plt\n",
    "import numpy as np\n",
    "import pandas as pd\n",
    "import re\n",
    "import requests\n",
    "import seaborn as sns\n",
    "import statsmodels.formula.api as smf\n",
    "matplotlib.style.use(['seaborn-talk', 'seaborn-ticks', 'seaborn-whitegrid'])"
   ]
  },
  {
   "cell_type": "code",
   "execution_count": 2,
   "metadata": {
    "collapsed": true
   },
   "outputs": [],
   "source": [
    "def get_flights(url):\n",
    "    doc = html.fromstring(requests.get(url).text)\n",
    "    flights = doc.xpath('//li[@class=\"flight\"]')\n",
    "\n",
    "    result = []\n",
    "    for f in flights:\n",
    "        \n",
    "        price = f.xpath(\".//div[contains@class,'bottom']\")[0].text_content()\n",
    "        \n",
    "        entry = {          \n",
    "            'price' : price\n",
    "        }\n",
    "        result.append(entry)\n",
    "        \n",
    "    return result"
   ]
  },
  {
   "cell_type": "code",
   "execution_count": 4,
   "metadata": {},
   "outputs": [
    {
     "data": {
      "text/plain": [
       "[]"
      ]
     },
     "execution_count": 4,
     "metadata": {},
     "output_type": "execute_result"
    }
   ],
   "source": [
    "get_flights('https://www.kayak.com/flights/NYC-LAX/2018-12-22?sort=bestflight_a')"
   ]
  },
  {
   "cell_type": "code",
   "execution_count": 26,
   "metadata": {
    "collapsed": true
   },
   "outputs": [],
   "source": [
    "url = \"https://www.kayak.com/flights/NYC-LAX/2018-12-22?sort=bestflight_a\"\n",
    "response = requests.get(url) # get the html of that url\n",
    "doc = html.fromstring(response.text) # parse it and create a document\n",
    "\n",
    "flights = doc.xpath(\"//div[@class='bottom']\")\n",
    "\n",
    "def get_flights(airline):    \n",
    "    line = airline.xpath(\".//div[contains@class,'bottom']\")[0].text_content()\n",
    "        \n",
    "    return {\n",
    "        'line': line\n",
    "    }"
   ]
  },
  {
   "cell_type": "code",
   "execution_count": 24,
   "metadata": {},
   "outputs": [
    {
     "data": {
      "text/html": [
       "<div>\n",
       "<style scoped>\n",
       "    .dataframe tbody tr th:only-of-type {\n",
       "        vertical-align: middle;\n",
       "    }\n",
       "\n",
       "    .dataframe tbody tr th {\n",
       "        vertical-align: top;\n",
       "    }\n",
       "\n",
       "    .dataframe thead th {\n",
       "        text-align: right;\n",
       "    }\n",
       "</style>\n",
       "<table border=\"1\" class=\"dataframe\">\n",
       "  <thead>\n",
       "    <tr style=\"text-align: right;\">\n",
       "      <th></th>\n",
       "    </tr>\n",
       "  </thead>\n",
       "  <tbody>\n",
       "  </tbody>\n",
       "</table>\n",
       "</div>"
      ],
      "text/plain": [
       "Empty DataFrame\n",
       "Columns: []\n",
       "Index: []"
      ]
     },
     "execution_count": 24,
     "metadata": {},
     "output_type": "execute_result"
    }
   ],
   "source": [
    "data = [get_flights(airline) for airline in flights]\n",
    "df = pd.DataFrame(data)\n",
    "df"
   ]
  },
  {
   "cell_type": "code",
   "execution_count": 43,
   "metadata": {},
   "outputs": [
    {
     "data": {
      "text/plain": [
       "[]"
      ]
     },
     "execution_count": 43,
     "metadata": {},
     "output_type": "execute_result"
    }
   ],
   "source": [
    "url = 'https://www.kayak.com/flights/NYC-LAX/2018-12-22?sort=bestflight_a'\n",
    "doc = html.fromstring(requests.get(url).text)\n",
    "recipes = doc.xpath(\"//div[@class='Base-Results-HorizonResult Flights-Results-FlightResultItem phoenix-rising get-in-formation']\")\n",
    "recipes"
   ]
  },
  {
   "cell_type": "code",
   "execution_count": 5,
   "metadata": {
    "collapsed": true
   },
   "outputs": [],
   "source": [
    "def site(airline, date):\n",
    "    print(\"https://www.kayak.com/flights/NYC-\" + str(airline) + \"/\" + str(date) + \"?sort=bestflight_a\")"
   ]
  },
  {
   "cell_type": "code",
   "execution_count": 17,
   "metadata": {},
   "outputs": [
    {
     "name": "stdout",
     "output_type": "stream",
     "text": [
      "https://www.kayak.com/flights/NYC-LAX/2018-12-22?sort=bestflight_a\n"
     ]
    }
   ],
   "source": [
    "site('LAX', '2018-12-22')"
   ]
  },
  {
   "cell_type": "markdown",
   "metadata": {},
   "source": [
    "# url part"
   ]
  },
  {
   "cell_type": "code",
   "execution_count": 32,
   "metadata": {},
   "outputs": [
    {
     "name": "stdout",
     "output_type": "stream",
     "text": [
      "https://www.kayak.com/flights/NYC-LAX/2018-12-23?sort=bestflight_a\n",
      "https://www.kayak.com/flights/NYC-LAX/2018-12-22?sort=bestflight_a\n",
      "https://www.kayak.com/flights/NYC-LAX/2018-12-23?sort=bestflight_a\n",
      "https://www.kayak.com/flights/NYC-LAX/2018-12-24?sort=bestflight_a\n",
      "https://www.kayak.com/flights/NYC-LAX/2018-12-25?sort=bestflight_a\n",
      "https://www.kayak.com/flights/NYC-LAX/2018-12-26?sort=bestflight_a\n",
      "https://www.kayak.com/flights/NYC-LAX/2018-12-27?sort=bestflight_a\n",
      "https://www.kayak.com/flights/NYC-LAX/2018-12-28?sort=bestflight_a\n",
      "https://www.kayak.com/flights/NYC-LAX/2018-12-29?sort=bestflight_a\n",
      "https://www.kayak.com/flights/NYC-LAX/2018-12-30?sort=bestflight_a\n",
      "https://www.kayak.com/flights/NYC-LAX/2018-12-31?sort=bestflight_a\n",
      "https://www.kayak.com/flights/NYC-LAX/2019-01-01?sort=bestflight_a\n"
     ]
    }
   ],
   "source": [
    "from datetime import datetime\n",
    "from datetime import timedelta\n",
    "import numpy as np\n",
    "\n",
    "kayak = []\n",
    "airline = 'LAX'\n",
    "\n",
    "test = site('LAX', '2018-12-23')\n",
    "\n",
    "#start_date = \"2018-12-22\"\n",
    "#stop_date = \"2019-01-01\"\n",
    "\n",
    "#start = datetime.strptime(start_date, \"%Y-%m-%d\")\n",
    "#stop = datetime.strptime(stop_date, \"%Y-%m-%d\")\n",
    "    \n",
    "#while start < stop:\n",
    "#    print('https://www.kayak.com/flights/NYC-' + str(airline) + '/' + str(start) + '?sort=bestflight_a')\n",
    "#    start = start + np.timedelta64(1, 'D').astype(int)  # increase day one by one\n",
    "    \n",
    "#start_date = \"2018-12-22\"\n",
    "#end_date = \"2019-01-01\"\n",
    "\n",
    "import datetime\n",
    "\n",
    "#start_date = \"2018-12-22\"\n",
    "#end_date = \"2019-01-01\"\n",
    "\n",
    "# The size of each step in days\n",
    "day_delta = datetime.timedelta(days=1)\n",
    "\n",
    "start_date = datetime.date(2018, 12, 22)\n",
    "end_date = start_date + 11*day_delta\n",
    "\n",
    "for i in range((end_date - start_date).days):\n",
    "    sd = start_date + i*day_delta\n",
    "    print('https://www.kayak.com/flights/NYC-' + str(airline) + '/' + str(sd) + '?sort=bestflight_a')\n",
    "    "
   ]
  },
  {
   "cell_type": "markdown",
   "metadata": {},
   "source": [
    "# function to input airline and date"
   ]
  },
  {
   "cell_type": "code",
   "execution_count": 33,
   "metadata": {
    "collapsed": true
   },
   "outputs": [],
   "source": [
    "def addAirline(airline, year, month, day):\n",
    "    day_delta = datetime.timedelta(days=1)\n",
    "\n",
    "    start_date = datetime.date(year, month, day)\n",
    "    end_date = start_date + 10*day_delta\n",
    "\n",
    "    for i in range((end_date - start_date).days):\n",
    "        sd = start_date + i*day_delta\n",
    "        print('https://www.kayak.com/flights/NYC-' + str(airline) + '/' + str(sd) + '?sort=bestflight_a')"
   ]
  },
  {
   "cell_type": "code",
   "execution_count": 36,
   "metadata": {},
   "outputs": [
    {
     "name": "stdout",
     "output_type": "stream",
     "text": [
      "https://www.kayak.com/flights/NYC-ORL/2018-12-22?sort=bestflight_a\n",
      "https://www.kayak.com/flights/NYC-ORL/2018-12-23?sort=bestflight_a\n",
      "https://www.kayak.com/flights/NYC-ORL/2018-12-24?sort=bestflight_a\n",
      "https://www.kayak.com/flights/NYC-ORL/2018-12-25?sort=bestflight_a\n",
      "https://www.kayak.com/flights/NYC-ORL/2018-12-26?sort=bestflight_a\n",
      "https://www.kayak.com/flights/NYC-ORL/2018-12-27?sort=bestflight_a\n",
      "https://www.kayak.com/flights/NYC-ORL/2018-12-28?sort=bestflight_a\n",
      "https://www.kayak.com/flights/NYC-ORL/2018-12-29?sort=bestflight_a\n",
      "https://www.kayak.com/flights/NYC-ORL/2018-12-30?sort=bestflight_a\n",
      "https://www.kayak.com/flights/NYC-ORL/2018-12-31?sort=bestflight_a\n"
     ]
    }
   ],
   "source": [
    "addAirline('ORL', 2018, 12, 22)"
   ]
  },
  {
   "cell_type": "code",
   "execution_count": 30,
   "metadata": {},
   "outputs": [
    {
     "name": "stdout",
     "output_type": "stream",
     "text": [
      "2018-12-22\n",
      "https://www.kayak.com/flights/NYC-LAX/2018-12-22?sort=bestflight_a\n",
      "2018-12-23\n",
      "https://www.kayak.com/flights/NYC-LAX/2018-12-23?sort=bestflight_a\n",
      "2018-12-24\n",
      "https://www.kayak.com/flights/NYC-LAX/2018-12-24?sort=bestflight_a\n",
      "2018-12-25\n",
      "https://www.kayak.com/flights/NYC-LAX/2018-12-25?sort=bestflight_a\n",
      "2018-12-26\n",
      "https://www.kayak.com/flights/NYC-LAX/2018-12-26?sort=bestflight_a\n",
      "2018-12-27\n",
      "https://www.kayak.com/flights/NYC-LAX/2018-12-27?sort=bestflight_a\n",
      "2018-12-28\n",
      "https://www.kayak.com/flights/NYC-LAX/2018-12-28?sort=bestflight_a\n",
      "2018-12-29\n",
      "https://www.kayak.com/flights/NYC-LAX/2018-12-29?sort=bestflight_a\n",
      "2018-12-30\n",
      "https://www.kayak.com/flights/NYC-LAX/2018-12-30?sort=bestflight_a\n",
      "2018-12-31\n",
      "https://www.kayak.com/flights/NYC-LAX/2018-12-31?sort=bestflight_a\n",
      "2019-01-01\n",
      "https://www.kayak.com/flights/NYC-LAX/2019-01-01?sort=bestflight_a\n"
     ]
    }
   ],
   "source": [
    "#test_url = 'https://www.kayak.com/flights/NYC-' + str(airline) + '/' + str(date) + '?sort=bestflight_a&fs=stops=0'\n",
    "\n",
    "#Vegas (LAS), LA (LAX), Chicago (CHI), SF (SFO), Orlando (ORL), \n",
    "#Denver (DEN), Washington DC (DCA), Seattle (SEA), Boston (BOS)\n",
    "\n",
    "#5\n",
    "import datetime\n",
    "\n",
    "#start_date = \"2018-12-22\"\n",
    "#end_date = \"2019-01-01\"\n",
    "\n",
    "# The size of each step in days\n",
    "day_delta = datetime.timedelta(days=1)\n",
    "\n",
    "start_date = datetime.date(2018, 12,22)\n",
    "end_date = start_date + 11*day_delta\n",
    "\n",
    "for i in range((end_date - start_date).days):\n",
    "    sd = start_date + i*day_delta\n",
    "    print('https://www.kayak.com/flights/NYC-' + str(airline) + '/' + str(sd) + '?sort=bestflight_a')\n"
   ]
  },
  {
   "cell_type": "code",
   "execution_count": null,
   "metadata": {
    "collapsed": true
   },
   "outputs": [],
   "source": []
  }
 ],
 "metadata": {
  "kernelspec": {
   "display_name": "Python 3",
   "language": "python",
   "name": "python3"
  },
  "language_info": {
   "codemirror_mode": {
    "name": "ipython",
    "version": 3
   },
   "file_extension": ".py",
   "mimetype": "text/x-python",
   "name": "python",
   "nbconvert_exporter": "python",
   "pygments_lexer": "ipython3",
   "version": "3.6.3"
  }
 },
 "nbformat": 4,
 "nbformat_minor": 2
}
