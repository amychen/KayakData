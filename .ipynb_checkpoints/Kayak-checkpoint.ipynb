{
 "cells": [
  {
   "cell_type": "code",
   "execution_count": 132,
   "metadata": {
    "collapsed": true
   },
   "outputs": [],
   "source": [
    "import requests\n",
    "from lxml import html\n",
    "import pandas\n",
    "import re\n",
    "\n",
    "url = \"https://www.kayak.com/s/horizon/flights/results/FlightPricePredictionAction\"\n",
    "response = requests.get(url)\n",
    "doc = html.fromstring(response.text)"
   ]
  },
  {
   "cell_type": "code",
   "execution_count": 133,
   "metadata": {},
   "outputs": [
    {
     "data": {
      "text/plain": [
       "'{\"infoText\":\"We\\'re still gathering data for this route\",\"cssClass\":\"nodata\",\"advice\":\"none\",\"buy\":false,\"adviceText\":\"¯\\\\\\\\_(ツ)_/¯\"}'"
      ]
     },
     "execution_count": 133,
     "metadata": {},
     "output_type": "execute_result"
    }
   ],
   "source": [
    "doc.text"
   ]
  },
  {
   "cell_type": "code",
   "execution_count": 134,
   "metadata": {
    "collapsed": true
   },
   "outputs": [],
   "source": [
    "referer = 'https://www.kayak.com/flights/NYC-AUH/2019-01-25/2019-05-25'"
   ]
  },
  {
   "cell_type": "code",
   "execution_count": 135,
   "metadata": {},
   "outputs": [],
   "source": [
    "headers = {\n",
    "    'Host': 'www.kayak.com',\n",
    "    'User-Agent': 'Mozilla/5.0 (Macintosh; Intel Mac OS X 10_14_0) AppleWebKit/537.36 (KHTML, like Gecko) Chrome/70.0.3538.102 Safari/537.36',\n",
    "    'Accept': '*/*',\n",
    "    'Accept-Language': 'en-US,en;q=0.9',\n",
    "    'Referer': referer,\n",
    "    'Content-Type': 'application/x-www-form-urlencoded; charset=UTF-8',\n",
    "    'X-CSRF': 'wHmLaqTX73FwzTWI81zdwlDQ8MajC3$3h8qJbgnebPw-GuMN34HxwMfDbhYdLKVU6AervhJGaz$JgaHbf6nbNoY',\n",
    "    'X-Requested-With': 'XMLHttpRequest',\n",
    "    'Content-Length': '121'\n",
    "}"
   ]
  },
  {
   "cell_type": "code",
   "execution_count": 136,
   "metadata": {
    "collapsed": true
   },
   "outputs": [],
   "source": [
    "params = {\n",
    "    'searchId': 'ElAiDHAYjr',\n",
    "    'formtoken': 'wHmLaqTX73FwzTWI81zdwlDQ8MajC3%243h8qJbgnebPw-KgPVKBqVwScDiwK2uPDqVxTn9gR6fX_hOUuNFEk0Mxo'\n",
    "}"
   ]
  },
  {
   "cell_type": "code",
   "execution_count": 145,
   "metadata": {},
   "outputs": [
    {
     "data": {
      "text/plain": [
       "{'actionableAmountMsg': 'Prices will likely increase $34',\n",
       " 'actionableDateMsg': 'Within 7 days',\n",
       " 'advice': 'buy',\n",
       " 'adviceText': 'Our Advice: Buy',\n",
       " 'alertsCta': 'Track price changes with our Price Alert emails.',\n",
       " 'buy': True,\n",
       " 'cssClass': 'buy',\n",
       " 'infoText': \"Prices predicted to rise <br> <span class='price'>$34</span> by <span class='date'>Nov 25</span>\",\n",
       " 'moreInfoText': \"Our data scientists think these are the best prices you'll see for the next seven days.\\nLike weather forecasters, though, they can't be 100% certain. Our purchase advisory, shown here, is based on an analysis of current and past prices.\"}"
      ]
     },
     "execution_count": 145,
     "metadata": {},
     "output_type": "execute_result"
    }
   ],
   "source": [
    "next = requests.post(url, headers=headers, data=params)\n",
    "advice = next.json()\n",
    "advice"
   ]
  },
  {
   "cell_type": "code",
   "execution_count": 146,
   "metadata": {},
   "outputs": [],
   "source": [
    "price_change = advice['actionableAmountMsg']\n",
    "buy_or_wait = advice['advice']"
   ]
  },
  {
   "cell_type": "code",
   "execution_count": 148,
   "metadata": {
    "collapsed": true
   },
   "outputs": [],
   "source": [
    "regex = re.compile(r'\\\\bincrease by \\\\b\\$[0-9]*')\n",
    "matches = regex.finditer(price_change)\n",
    "for r in matches:\n",
    "    print(r.group())\n",
    "    increase = r.group()"
   ]
  },
  {
   "cell_type": "code",
   "execution_count": 149,
   "metadata": {},
   "outputs": [
    {
     "name": "stdout",
     "output_type": "stream",
     "text": [
      "Prices will increase by 34\n",
      "Kayak wants you to buy\n"
     ]
    }
   ],
   "source": [
    "print(\"Prices will increase by\", str(increase))\n",
    "print(\"Kayak wants you to \" + advice['advice'])"
   ]
  }
 ],
 "metadata": {
  "kernelspec": {
   "display_name": "Python 3",
   "language": "python",
   "name": "python3"
  },
  "language_info": {
   "codemirror_mode": {
    "name": "ipython",
    "version": 3
   },
   "file_extension": ".py",
   "mimetype": "text/x-python",
   "name": "python",
   "nbconvert_exporter": "python",
   "pygments_lexer": "ipython3",
   "version": "3.6.3"
  }
 },
 "nbformat": 4,
 "nbformat_minor": 2
}
