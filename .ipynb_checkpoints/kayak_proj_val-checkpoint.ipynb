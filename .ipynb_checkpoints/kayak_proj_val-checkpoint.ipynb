{
 "cells": [
  {
   "cell_type": "code",
   "execution_count": 1,
   "metadata": {
    "collapsed": true
   },
   "outputs": [],
   "source": [
    "from lxml import html\n",
    "from xml.etree import ElementTree\n",
    "import matplotlib\n",
    "import matplotlib.pyplot as plt\n",
    "import numpy as np\n",
    "import pandas as pd\n",
    "import re\n",
    "import requests\n",
    "import seaborn as sns\n",
    "import statsmodels.formula.api as smf\n",
    "matplotlib.style.use(['seaborn-talk', 'seaborn-ticks', 'seaborn-whitegrid'])"
   ]
  },
  {
   "cell_type": "code",
   "execution_count": 5,
   "metadata": {
    "collapsed": true
   },
   "outputs": [],
   "source": [
    "def get_flights(url):\n",
    "    doc = html.fromstring(requests.get(url).text)\n",
    "    flights = doc.xpath('//li[@class=\"flight\"]')\n",
    "\n",
    "    result = []\n",
    "    for f in flights:\n",
    "        \n",
    "        price = f.xpath(\".//div[contains@class,'bottom']\")[0].text_content()\n",
    "        \n",
    "        entry = {          \n",
    "            'price' : price\n",
    "        }\n",
    "        result.append(entry)\n",
    "        \n",
    "    return result"
   ]
  },
  {
   "cell_type": "code",
   "execution_count": 6,
   "metadata": {},
   "outputs": [
    {
     "data": {
      "text/plain": [
       "[]"
      ]
     },
     "execution_count": 6,
     "metadata": {},
     "output_type": "execute_result"
    }
   ],
   "source": [
    "get_flights('https://www.kayak.com/flights/NYC-LAX/2018-12-22?sort=bestflight_a')"
   ]
  },
  {
   "cell_type": "code",
   "execution_count": 7,
   "metadata": {
    "collapsed": true
   },
   "outputs": [],
   "source": [
    "url = \"https://www.kayak.com/flights/NYC-LAX/2018-12-22?sort=bestflight_a\"\n",
    "response = requests.get(url) # get the html of that url\n",
    "doc = html.fromstring(response.text) # parse it and create a document\n",
    "\n",
    "flights = doc.xpath(\"//div[@class='bottom']\")\n",
    "\n",
    "def get_flights(airline):    \n",
    "    line = airline.xpath(\".//div[contains@class,'bottom']\")[0].text_content()\n",
    "        \n",
    "    return {\n",
    "        'line': line\n",
    "    }"
   ]
  },
  {
   "cell_type": "code",
   "execution_count": 8,
   "metadata": {},
   "outputs": [
    {
     "data": {
      "text/html": [
       "<div>\n",
       "<style>\n",
       "    .dataframe thead tr:only-child th {\n",
       "        text-align: right;\n",
       "    }\n",
       "\n",
       "    .dataframe thead th {\n",
       "        text-align: left;\n",
       "    }\n",
       "\n",
       "    .dataframe tbody tr th {\n",
       "        vertical-align: top;\n",
       "    }\n",
       "</style>\n",
       "<table border=\"1\" class=\"dataframe\">\n",
       "  <thead>\n",
       "    <tr style=\"text-align: right;\">\n",
       "      <th></th>\n",
       "    </tr>\n",
       "  </thead>\n",
       "  <tbody>\n",
       "  </tbody>\n",
       "</table>\n",
       "</div>"
      ],
      "text/plain": [
       "Empty DataFrame\n",
       "Columns: []\n",
       "Index: []"
      ]
     },
     "execution_count": 8,
     "metadata": {},
     "output_type": "execute_result"
    }
   ],
   "source": [
    "data = [get_flights(airline) for airline in flights]\n",
    "df = pd.DataFrame(data)\n",
    "df"
   ]
  },
  {
   "cell_type": "code",
   "execution_count": 9,
   "metadata": {},
   "outputs": [
    {
     "data": {
      "text/plain": [
       "[]"
      ]
     },
     "execution_count": 9,
     "metadata": {},
     "output_type": "execute_result"
    }
   ],
   "source": [
    "url = 'https://www.kayak.com/flights/NYC-LAX/2018-12-22?sort=bestflight_a'\n",
    "doc = html.fromstring(requests.get(url).text)\n",
    "recipes = doc.xpath(\"//div[@class='Base-Results-HorizonResult Flights-Results-FlightResultItem phoenix-rising get-in-formation']\")\n",
    "recipes"
   ]
  },
  {
   "cell_type": "code",
   "execution_count": 10,
   "metadata": {
    "collapsed": true
   },
   "outputs": [],
   "source": [
    "def site(airline, date):\n",
    "    print(\"https://www.kayak.com/flights/NYC-\" + str(airline) + \"/\" + str(date) + \"?sort=bestflight_a\")"
   ]
  },
  {
   "cell_type": "code",
   "execution_count": 11,
   "metadata": {},
   "outputs": [
    {
     "name": "stdout",
     "output_type": "stream",
     "text": [
      "https://www.kayak.com/flights/NYC-LAX/2018-12-22?sort=bestflight_a\n"
     ]
    }
   ],
   "source": [
    "site('LAX', '2018-12-22')"
   ]
  },
  {
   "cell_type": "markdown",
   "metadata": {},
   "source": [
    "# uhh this part is the url part but the daterange loop doesnt quite work"
   ]
  },
  {
   "cell_type": "code",
   "execution_count": 12,
   "metadata": {},
   "outputs": [
    {
     "name": "stdout",
     "output_type": "stream",
     "text": [
      "https://www.kayak.com/flights/NYC-LAX/2018-12-23?sort=bestflight_a\n",
      "https://www.kayak.com/flights/NYC-LAX/2018-12-22 00:00:00?sort=bestflight_a\n",
      "https://www.kayak.com/flights/NYC-LAX/2018-12-23 00:00:00?sort=bestflight_a\n",
      "https://www.kayak.com/flights/NYC-LAX/2018-12-24 00:00:00?sort=bestflight_a\n",
      "https://www.kayak.com/flights/NYC-LAX/2018-12-25 00:00:00?sort=bestflight_a\n",
      "https://www.kayak.com/flights/NYC-LAX/2018-12-26 00:00:00?sort=bestflight_a\n",
      "https://www.kayak.com/flights/NYC-LAX/2018-12-27 00:00:00?sort=bestflight_a\n",
      "https://www.kayak.com/flights/NYC-LAX/2018-12-28 00:00:00?sort=bestflight_a\n",
      "https://www.kayak.com/flights/NYC-LAX/2018-12-29 00:00:00?sort=bestflight_a\n",
      "https://www.kayak.com/flights/NYC-LAX/2018-12-30 00:00:00?sort=bestflight_a\n",
      "https://www.kayak.com/flights/NYC-LAX/2018-12-31 00:00:00?sort=bestflight_a\n",
      "1 day, 0:00:00\n"
     ]
    }
   ],
   "source": [
    "from datetime import datetime\n",
    "from datetime import timedelta\n",
    "\n",
    "kayak = []\n",
    "airline = 'LAX'\n",
    "\n",
    "test = site('LAX', '2018-12-23')\n",
    "\n",
    "start_date = \"2018-12-22\"\n",
    "stop_date = \"2019-01-01\"\n",
    "\n",
    "start = datetime.strptime(start_date, \"%Y-%m-%d\")\n",
    "stop = datetime.strptime(stop_date, \"%Y-%m-%d\")\n",
    "    \n",
    "while start < stop:\n",
    "    print('https://www.kayak.com/flights/NYC-' + str(airline) + '/' + str(start) + '?sort=bestflight_a')\n",
    "    start = start + timedelta(days=1)  # increase day one by one\n",
    "\n",
    "print(timedelta(days=1))"
   ]
  },
  {
   "cell_type": "code",
   "execution_count": 58,
   "metadata": {},
   "outputs": [
    {
     "name": "stdout",
     "output_type": "stream",
     "text": [
      "1970-01-01\n"
     ]
    }
   ],
   "source": [
    "#test_url = 'https://www.kayak.com/flights/NYC-' + str(airline) + '/' + str(date) + '?sort=bestflight_a&fs=stops=0'\n",
    "\n",
    "#Vegas (LAS), LA (LAX), Chicago (CHI), SF (SFO), Orlando (ORL), Denver (DEN), Washington DC (DCA), Seattle (SEA), Boston (BOS)\n",
    "\n",
    "#1\n",
    "import pandas as pd\n",
    "daterange = pd.date_range(2018-12-22, 2019-1-1)\n",
    "\n",
    "for single_date in daterange:\n",
    "    print (single_date.strftime(\"%Y-%m-%d\"))"
   ]
  },
  {
   "cell_type": "code",
   "execution_count": 52,
   "metadata": {
    "collapsed": true
   },
   "outputs": [],
   "source": [
    "#2\n",
    "from datetime import timedelta, date\n",
    "\n",
    "def daterange(start_date, end_date):\n",
    "    for n in range(int ((end_date - start_date).days)):\n",
    "        yield start_date + timedelta(n)"
   ]
  },
  {
   "cell_type": "code",
   "execution_count": 62,
   "metadata": {},
   "outputs": [
    {
     "ename": "TypeError",
     "evalue": "'DatetimeIndex' object is not callable",
     "output_type": "error",
     "traceback": [
      "\u001b[0;31m---------------------------------------------------------------------------\u001b[0m",
      "\u001b[0;31mTypeError\u001b[0m                                 Traceback (most recent call last)",
      "\u001b[0;32m<ipython-input-62-9215c9059f6f>\u001b[0m in \u001b[0;36m<module>\u001b[0;34m()\u001b[0m\n\u001b[1;32m      2\u001b[0m \u001b[0mstart_date\u001b[0m \u001b[0;34m=\u001b[0m \u001b[0mdate\u001b[0m\u001b[0;34m(\u001b[0m\u001b[0;36m2018\u001b[0m\u001b[0;34m,\u001b[0m \u001b[0;36m12\u001b[0m\u001b[0;34m,\u001b[0m \u001b[0;36m22\u001b[0m\u001b[0;34m)\u001b[0m\u001b[0;34m\u001b[0m\u001b[0m\n\u001b[1;32m      3\u001b[0m \u001b[0mend_date\u001b[0m \u001b[0;34m=\u001b[0m \u001b[0mdate\u001b[0m\u001b[0;34m(\u001b[0m\u001b[0;36m2019\u001b[0m\u001b[0;34m,\u001b[0m \u001b[0;36m1\u001b[0m\u001b[0;34m,\u001b[0m \u001b[0;36m1\u001b[0m\u001b[0;34m)\u001b[0m\u001b[0;34m\u001b[0m\u001b[0m\n\u001b[0;32m----> 4\u001b[0;31m \u001b[0;32mfor\u001b[0m \u001b[0msingle_date\u001b[0m \u001b[0;32min\u001b[0m \u001b[0mdaterange\u001b[0m\u001b[0;34m(\u001b[0m\u001b[0mstart_date\u001b[0m\u001b[0;34m,\u001b[0m \u001b[0mend_date\u001b[0m\u001b[0;34m)\u001b[0m\u001b[0;34m:\u001b[0m\u001b[0;34m\u001b[0m\u001b[0m\n\u001b[0m\u001b[1;32m      5\u001b[0m     \u001b[0mprint\u001b[0m\u001b[0;34m(\u001b[0m\u001b[0msingle_date\u001b[0m\u001b[0;34m.\u001b[0m\u001b[0mstrftime\u001b[0m\u001b[0;34m(\u001b[0m\u001b[0;34m\"%Y-%m-%d\"\u001b[0m\u001b[0;34m)\u001b[0m\u001b[0;34m)\u001b[0m\u001b[0;34m\u001b[0m\u001b[0m\n",
      "\u001b[0;31mTypeError\u001b[0m: 'DatetimeIndex' object is not callable"
     ]
    }
   ],
   "source": [
    "#2\n",
    "start_date = date(2018, 12, 22)\n",
    "end_date = date(2019, 1, 1)\n",
    "for single_date in daterange(start_date, end_date):\n",
    "    print(single_date.strftime(\"%Y-%m-%d\"))"
   ]
  },
  {
   "cell_type": "code",
   "execution_count": 55,
   "metadata": {},
   "outputs": [
    {
     "name": "stdout",
     "output_type": "stream",
     "text": [
      "2018-12-22 00:00:00\n",
      "2018-12-23 00:00:00\n",
      "2018-12-24 00:00:00\n",
      "2018-12-25 00:00:00\n",
      "2018-12-26 00:00:00\n",
      "2018-12-27 00:00:00\n",
      "2018-12-28 00:00:00\n",
      "2018-12-29 00:00:00\n",
      "2018-12-30 00:00:00\n",
      "2018-12-31 00:00:00\n"
     ]
    }
   ],
   "source": [
    "#3\n",
    "from datetime import datetime\n",
    "\n",
    "start_date = \"2018-12-22\"\n",
    "stop_date = \"2019-01-01\"\n",
    "\n",
    "start = datetime.strptime(start_date, \"%Y-%m-%d\")\n",
    "stop = datetime.strptime(stop_date, \"%Y-%m-%d\")\n",
    "\n",
    "from datetime import timedelta\n",
    "while start < stop:\n",
    "    print(start)\n",
    "    start = start + timedelta(days=1)  # increase day one by one"
   ]
  },
  {
   "cell_type": "code",
   "execution_count": 63,
   "metadata": {},
   "outputs": [
    {
     "ename": "AttributeError",
     "evalue": "type object 'datetime.datetime' has no attribute 'timedelta'",
     "output_type": "error",
     "traceback": [
      "\u001b[0;31m---------------------------------------------------------------------------\u001b[0m",
      "\u001b[0;31mAttributeError\u001b[0m                            Traceback (most recent call last)",
      "\u001b[0;32m<ipython-input-63-fc08a07e4509>\u001b[0m in \u001b[0;36m<module>\u001b[0;34m()\u001b[0m\n\u001b[1;32m      3\u001b[0m \u001b[0;32mfrom\u001b[0m \u001b[0mdatetime\u001b[0m \u001b[0;32mimport\u001b[0m \u001b[0mtimedelta\u001b[0m\u001b[0;34m\u001b[0m\u001b[0m\n\u001b[1;32m      4\u001b[0m \u001b[0md\u001b[0m \u001b[0;34m=\u001b[0m \u001b[0mstart_date\u001b[0m\u001b[0;34m\u001b[0m\u001b[0m\n\u001b[0;32m----> 5\u001b[0;31m \u001b[0mdelta\u001b[0m \u001b[0;34m=\u001b[0m \u001b[0mdatetime\u001b[0m\u001b[0;34m.\u001b[0m\u001b[0mtimedelta\u001b[0m\u001b[0;34m(\u001b[0m\u001b[0mdays\u001b[0m\u001b[0;34m=\u001b[0m\u001b[0;36m1\u001b[0m\u001b[0;34m)\u001b[0m\u001b[0;34m\u001b[0m\u001b[0m\n\u001b[0m\u001b[1;32m      6\u001b[0m \u001b[0;32mwhile\u001b[0m \u001b[0md\u001b[0m \u001b[0;34m<=\u001b[0m \u001b[0mend_date\u001b[0m\u001b[0;34m:\u001b[0m\u001b[0;34m\u001b[0m\u001b[0m\n\u001b[1;32m      7\u001b[0m     \u001b[0mprint\u001b[0m\u001b[0;34m(\u001b[0m\u001b[0md\u001b[0m\u001b[0;34m.\u001b[0m\u001b[0mstrftime\u001b[0m\u001b[0;34m(\u001b[0m\u001b[0;34m\"%Y-%m-%d\"\u001b[0m\u001b[0;34m)\u001b[0m\u001b[0;34m)\u001b[0m\u001b[0;34m\u001b[0m\u001b[0m\n",
      "\u001b[0;31mAttributeError\u001b[0m: type object 'datetime.datetime' has no attribute 'timedelta'"
     ]
    }
   ],
   "source": [
    "#4\n",
    "from datetime import date\n",
    "from datetime import timedelta\n",
    "d = start_date\n",
    "delta = datetime.timedelta(days=1)\n",
    "while d <= end_date:\n",
    "    print(d.strftime(\"%Y-%m-%d\"))\n",
    "    d += delta"
   ]
  },
  {
   "cell_type": "code",
   "execution_count": null,
   "metadata": {
    "collapsed": true
   },
   "outputs": [],
   "source": []
  }
 ],
 "metadata": {
  "kernelspec": {
   "display_name": "Python 3",
   "language": "python",
   "name": "python3"
  },
  "language_info": {
   "codemirror_mode": {
    "name": "ipython",
    "version": 3
   },
   "file_extension": ".py",
   "mimetype": "text/x-python",
   "name": "python",
   "nbconvert_exporter": "python",
   "pygments_lexer": "ipython3",
   "version": "3.6.3"
  }
 },
 "nbformat": 4,
 "nbformat_minor": 2
}
