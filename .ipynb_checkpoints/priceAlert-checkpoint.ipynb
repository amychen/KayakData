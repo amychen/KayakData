{
 "cells": [
  {
   "cell_type": "code",
   "execution_count": 15,
   "metadata": {},
   "outputs": [],
   "source": [
    "import requests\n",
    "from bs4 import BeautifulSoup\n",
    "from lxml import html\n",
    "import json\n",
    "import pandas\n",
    "import re\n",
    "\n",
    "url = \"https://www.kayak.com/s/horizon/flights/results/FlightPricePredictionAction\"\n",
    "response = requests.get(url)\n",
    "doc = html.fromstring(response.text)"
   ]
  },
  {
   "cell_type": "code",
   "execution_count": 16,
   "metadata": {},
   "outputs": [
    {
     "data": {
      "text/plain": [
       "'{\"infoText\":\"We\\'re still gathering data for this route\",\"cssClass\":\"nodata\",\"advice\":\"none\",\"buy\":false,\"adviceText\":\"¯\\\\\\\\_(ツ)_/¯\"}'"
      ]
     },
     "execution_count": 16,
     "metadata": {},
     "output_type": "execute_result"
    }
   ],
   "source": [
    "doc.text"
   ]
  },
  {
   "cell_type": "code",
   "execution_count": 17,
   "metadata": {
    "collapsed": true
   },
   "outputs": [],
   "source": [
    "referer = 'https://www.kayak.com/flights/NYC-AUH/2019-01-25'"
   ]
  },
  {
   "cell_type": "code",
   "execution_count": 18,
   "metadata": {
    "collapsed": true
   },
   "outputs": [],
   "source": [
    "headers = {\n",
    "    'Host': 'www.kayak.com',\n",
    "    'User-Agent': 'Mozilla/5.0 (Macintosh; Intel Mac OS X 10_14_0) AppleWebKit/537.36 (KHTML, like Gecko) Chrome/70.0.3538.102 Safari/537.36',\n",
    "    'Accept': '*/*',\n",
    "    'Accept-Language': 'en-US,en;q=0.9',\n",
    "    'Referer': referer,\n",
    "    'Content-Type': 'application/x-www-form-urlencoded; charset=UTF-8',\n",
    "    'X-CSRF': 'wHmLaqTX73FwzTWI81zdwlDQ8MajC3$3h8qJbgnebPw-GuMN34HxwMfDbhYdLKVU6AervhJGaz$JgaHbf6nbNoY',\n",
    "    'X-Requested-With': 'XMLHttpRequest',\n",
    "    'Content-Length': '121'\n",
    "}"
   ]
  },
  {
   "cell_type": "code",
   "execution_count": 19,
   "metadata": {
    "collapsed": true
   },
   "outputs": [],
   "source": [
    "params = {\n",
    "    'searchId': 'DZGCEOnKQg',\n",
    "    'formtoken': 'wHmLaqTX73FwzTWI81zdwlDQ8MajC3$3h8qJbgnebPw-7oCUjiu2zTXoIeBe4Ek6MiNneLmKSnVKb9Jb2SJn_KQ'\n",
    "}"
   ]
  },
  {
   "cell_type": "code",
   "execution_count": 20,
   "metadata": {},
   "outputs": [],
   "source": [
    "next = requests.post(url, headers=params, data=headers)"
   ]
  },
  {
   "cell_type": "code",
   "execution_count": 21,
   "metadata": {},
   "outputs": [
    {
     "data": {
      "text/plain": [
       "{'advice': 'none',\n",
       " 'adviceText': '¯\\\\_(ツ)_/¯',\n",
       " 'buy': False,\n",
       " 'cssClass': 'nodata',\n",
       " 'infoText': \"We're still gathering data for this route\"}"
      ]
     },
     "execution_count": 21,
     "metadata": {},
     "output_type": "execute_result"
    }
   ],
   "source": [
    "advice = next.json()\n",
    "advice"
   ]
  },
  {
   "cell_type": "code",
   "execution_count": 22,
   "metadata": {},
   "outputs": [
    {
     "ename": "KeyError",
     "evalue": "'actionableAmountMsg'",
     "output_type": "error",
     "traceback": [
      "\u001b[0;31m---------------------------------------------------------------------------\u001b[0m",
      "\u001b[0;31mKeyError\u001b[0m                                  Traceback (most recent call last)",
      "\u001b[0;32m<ipython-input-22-bf3e01ec5564>\u001b[0m in \u001b[0;36m<module>\u001b[0;34m()\u001b[0m\n\u001b[0;32m----> 1\u001b[0;31m \u001b[0mprice_change\u001b[0m \u001b[0;34m=\u001b[0m \u001b[0madvice\u001b[0m\u001b[0;34m[\u001b[0m\u001b[0;34m'actionableAmountMsg'\u001b[0m\u001b[0;34m]\u001b[0m\u001b[0;34m\u001b[0m\u001b[0m\n\u001b[0m\u001b[1;32m      2\u001b[0m \u001b[0mbuy_or_wait\u001b[0m \u001b[0;34m=\u001b[0m \u001b[0madvice\u001b[0m\u001b[0;34m[\u001b[0m\u001b[0;34m'advice'\u001b[0m\u001b[0;34m]\u001b[0m\u001b[0;34m\u001b[0m\u001b[0m\n",
      "\u001b[0;31mKeyError\u001b[0m: 'actionableAmountMsg'"
     ]
    }
   ],
   "source": [
    "# price_change = advice['actionableAmountMsg']\n",
    "# buy_or_wait = advice['advice']"
   ]
  },
  {
   "cell_type": "code",
   "execution_count": 148,
   "metadata": {
    "collapsed": true
   },
   "outputs": [],
   "source": [
    "# regex = re.compile(r'\\\\bincrease by \\\\b\\$[0-9]*')\n",
    "# matches = regex.finditer(price_change)\n",
    "# for r in matches:\n",
    "#     print(r.group())\n",
    "#     increase = r.group()"
   ]
  },
  {
   "cell_type": "code",
   "execution_count": 149,
   "metadata": {
    "scrolled": true
   },
   "outputs": [
    {
     "name": "stdout",
     "output_type": "stream",
     "text": [
      "Prices will increase by 34\n",
      "Kayak wants you to buy\n"
     ]
    }
   ],
   "source": [
    "# print(\"Prices will increase by\", str(increase))\n",
    "# print(\"Kayak wants you to \" + advice['advice'])"
   ]
  }
 ],
 "metadata": {
  "kernelspec": {
   "display_name": "Python 3",
   "language": "python",
   "name": "python3"
  },
  "language_info": {
   "codemirror_mode": {
    "name": "ipython",
    "version": 3
   },
   "file_extension": ".py",
   "mimetype": "text/x-python",
   "name": "python",
   "nbconvert_exporter": "python",
   "pygments_lexer": "ipython3",
   "version": "3.6.3"
  }
 },
 "nbformat": 4,
 "nbformat_minor": 2
}
